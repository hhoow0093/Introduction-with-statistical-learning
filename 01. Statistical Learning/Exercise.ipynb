{
  "nbformat": 4,
  "nbformat_minor": 0,
  "metadata": {
    "colab": {
      "provenance": [],
      "toc_visible": true,
      "authorship_tag": "ABX9TyO/yE/T5poJraN7bxYeGMQl"
    },
    "kernelspec": {
      "name": "python3",
      "display_name": "Python 3"
    },
    "language_info": {
      "name": "python"
    }
  },
  "cells": [
    {
      "cell_type": "markdown",
      "source": [
        "# Statistical Learning Exercise"
      ],
      "metadata": {
        "id": "y_KrkKtVLAQ-"
      }
    },
    {
      "cell_type": "markdown",
      "source": [
        "## Flexible Approach vs Inflexible Approach"
      ],
      "metadata": {
        "id": "rijXUbGkbb45"
      }
    },
    {
      "cell_type": "markdown",
      "source": [
        "1 . For each of parts (a) through (d), indicate whether we would generally\n",
        "expect the performance of a flexible statistical learning method to be\n",
        "better or worse than an inflexible method. Justify your answer.\n",
        "\n",
        "(a) The sample size n is extremely large, and the number of predictors p is small.\n",
        "\n",
        "(b) The number of predictors p is extremely large, and the number\n",
        "of observations n is small.\n",
        "\n",
        "(c) The relationship between the predictors and response is highly\n",
        "non-linear.\n",
        "\n",
        "(d) The variance of the error terms, i.e. σ\n",
        "2 = Var(ϵ), is extremely\n",
        "high.\n",
        "\n",
        "> **inflexible method** : inflexible method compromised algorithms such as *simple Decision Tree, linear regression, logistic regression, Lasso regression, linear discriminant analysis, naive bayes* because the model can be interpreted by manual mathematics calculation\n",
        "\n",
        "> **flexible method** : flexible method is very hard to compute it manually by mathematics because the model is already complex. Hence could cause over fitting in a model. Example algorithm are *Support vector model, K-nearest neighbour, complex decision trees, deep random forest, neural network*\n"
      ],
      "metadata": {
        "id": "X7S96ogcLFtB"
      }
    },
    {
      "cell_type": "markdown",
      "source": [
        "### Answer"
      ],
      "metadata": {
        "id": "5u6m3cqwjWEK"
      }
    },
    {
      "cell_type": "markdown",
      "source": [
        "(a) . If a there is too much sample and less predictor, the likelyhood of underfitting of a model could happen when we use **inflexible algorithm** can happen easily because model could potentially not generalize the relationships for each records therefore *creating a model learns patterns poorly for each data.* Therefore *to learn better patterns for each data relationship*, performing **flexible method** is better because it wont cause underfitting and the model can generalize the pattern better for model evaluation."
      ],
      "metadata": {
        "id": "_Wih36wfLY-f"
      }
    },
    {
      "cell_type": "markdown",
      "source": [
        "(b) . When the number of predictors is large and the number of observations is small, using a flexible method can easily lead to overfitting.\n",
        "Because there are too few data points relative to the number of predictors, a flexible method can fit the training data almost perfectly — essentially memorizing the noise instead of learning the true relationship.\n",
        "As a result, it performs poorly on unseen data.\n",
        "Therefore, in this situation, an inflexible method is preferable, since it imposes more structure on the model and is less likely to overfit, allowing for better generalization despite limited data."
      ],
      "metadata": {
        "id": "84V1OgMlRvyE"
      }
    },
    {
      "cell_type": "markdown",
      "source": [
        "(c) . relationship between predictors and dependent variable is highly non linear. Therefore, using **flexible method** is better because it helps the model to learn the pattern for all the existing variables between dependent and independent to generalize a better pattern for a model."
      ],
      "metadata": {
        "id": "SJqC928hU8Ul"
      }
    },
    {
      "cell_type": "markdown",
      "source": [
        "(d) . if variance is very high, it means that the data distribution is not close with the mean or average. Therefore the spread of data is quite large and we need to detect what is causing this high variance. It could be a stupid **high amount of outlier** or some **complex relationships** between independent variables and dependennt variables. if outlier, performing inflexible method is better because we can throw out the outlier and generalize the model structure better with the dependent variable. If the variance is caused by the complex relationship its self, then using flexible method is better because for each different sample we use, we can perform why this sample group behaves this way and this also applies with the other sample groups."
      ],
      "metadata": {
        "id": "6SMcZknuXyug"
      }
    },
    {
      "cell_type": "markdown",
      "source": [
        "## Classification vs Regression (predict or inference)"
      ],
      "metadata": {
        "id": "lvMS9MihbiXq"
      }
    },
    {
      "cell_type": "markdown",
      "source": [
        "2 . Explain whether each scenario is a classification or regression problem, and indicate whether we are most interested in inference or prediction. Finally, provide n and p.\n",
        "\n",
        "(a) We collect a set of data on the top 500 firms in the US. For each\n",
        "firm we record profit, number of employees, industry and the\n",
        "CEO salary. We are interested in understanding which factors\n",
        "affect CEO salary.\n",
        "\n",
        "(b) We are considering launching a new product and wish to know\n",
        "whether it will be a success or a failure. We collect data on 20\n",
        "similar products that were previously launched. For each product we have recorded whether it was a success or failure, price\n",
        "charged for the product, marketing budget, competition price,\n",
        "and ten other variables.\n",
        "\n",
        "(c) We are interested in predicting the % change in the USD/Euro\n",
        "exchange rate in relation to the weekly changes in the world\n",
        "stock markets. Hence we collect weekly data for all of 2012. For\n",
        "each week we record the % change in the USD/Euro, the %\n",
        "change in the US market, the % change in the British market,\n",
        "and the % change in the German market."
      ],
      "metadata": {
        "id": "-lOh1EbGbPNF"
      }
    },
    {
      "cell_type": "markdown",
      "source": [
        "### Answer"
      ],
      "metadata": {
        "id": "jQQ-IUPRjcgK"
      }
    },
    {
      "cell_type": "markdown",
      "source": [
        "(a) . If we are interested which factors affect the CEO salary. Then, this is an **inference problem**. we want to estimate *f* and figure out which **predictor** has the most significant impact with the **dependent variable**. To estimate *f* for this problem, **regression** is used because the dependent variable (salary) is a *continuous value* and that value is affected by the predictors."
      ],
      "metadata": {
        "id": "J_LQL3K8dm8b"
      }
    },
    {
      "cell_type": "markdown",
      "source": [
        "(b). If we are interested in predicting whether similar products that were launched success or not to consider launching new product. Then this should be a **classification problem** because there are only 2 type of dependent variable result, which are sucess or not. Since we only care whether the given products were successful or not, **prediction method** is used to detect the dependent variable.   "
      ],
      "metadata": {
        "id": "oqSxHRuYhzJq"
      }
    },
    {
      "cell_type": "markdown",
      "source": [
        "(c) . this should be a regression and prediction problem. **regression** method is used because *%* change in USD/Euro exchange rate are viewed as *continuous value* and **prediction** is used for predicting the *%* change in USD/euro as the dependent variable of the given case."
      ],
      "metadata": {
        "id": "breZRWr-LbEW"
      }
    },
    {
      "cell_type": "markdown",
      "source": [
        "### Inference problem cheatcheet\n"
      ],
      "metadata": {
        "id": "_VuTwM4Ji63Y"
      }
    },
    {
      "cell_type": "markdown",
      "source": [
        "| Method                               | Suitable For                                          | Why It’s Good for Inference                                                                                  |\n",
        "| ------------------------------------ | ----------------------------------------------------- | ------------------------------------------------------------------------------------------------------------ |\n",
        "| **Linear Regression (OLS)**          | Continuous dependent variable                         | Gives direct coefficient estimates → you can interpret how much ( y ) changes with a unit change in ( x_i ). |\n",
        "| **Multiple Linear Regression**       | Continuous ( y ), multiple predictors                 | Helps you see the *partial effect* of each predictor while holding others constant.                          |\n",
        "| **Logistic Regression**              | Binary classification (e.g., success/failure)         | Estimates *odds ratios* — you can interpret how each predictor affects the log-odds of success.              |\n",
        "| **Poisson Regression**               | Count data (e.g., number of sales, clicks)            | Models the relationship between predictors and count outcomes.                                               |\n",
        "| **ANOVA (Analysis of Variance)**     | Categorical predictors, continuous dependent variable | Tests whether group means differ significantly.                                                              |\n",
        "| **ANCOVA (Analysis of Covariance)**  | Continuous + categorical predictors                   | Tests effects of categorical predictors while controlling continuous ones.                                   |\n",
        "| **Generalized Linear Models (GLMs)** | Various data types                                    | Extend linear regression to non-normal distributions (logistic, Poisson, etc.).                              |\n",
        "| **Linear Mixed Models**              | Hierarchical or grouped data                          | Useful when data have random effects (e.g., CEOs nested within companies).                                   |\n",
        "| **Stepwise Regression / LASSO**      | Variable selection                                    | Identifies which predictors matter most (good for inference with many predictors).                           |\n"
      ],
      "metadata": {
        "id": "MB3fQGVckREw"
      }
    },
    {
      "cell_type": "markdown",
      "source": [
        "### Prediction problem cheatsheet\n",
        "\n",
        "\n"
      ],
      "metadata": {
        "id": "0zcpczyBjil4"
      }
    },
    {
      "cell_type": "markdown",
      "source": [
        "| Method                                    | Type            | Flexibility | Notes                                       |\n",
        "| ----------------------------------------- | --------------- | ----------- | ------------------------------------------- |\n",
        "| **Linear Regression**                     | Inflexible      | Low         | Good for simple, linear trends              |\n",
        "| **Polynomial Regression**                 | Flexible        | Medium      | Captures non-linear patterns                |\n",
        "| **Decision Tree Regressor**               | Flexible        | Medium      | Splits data into regions; interpretable     |\n",
        "| **Random Forest Regressor**               | Very Flexible   | High        | Combines many trees; reduces overfitting    |\n",
        "| **Gradient Boosting (XGBoost, LightGBM)** | Very Flexible   | High        | Excellent predictive accuracy               |\n",
        "| **k-Nearest Neighbors (KNN)**             | Flexible        | Medium      | Based on local neighborhood patterns        |\n",
        "| **Support Vector Regression (SVR)**       | Flexible        | High        | Works well for complex boundaries           |\n",
        "| **Neural Networks / Deep Learning**       | Highly Flexible | Very High   | For complex, high-dimensional relationships |\n"
      ],
      "metadata": {
        "id": "22VQV6UvmVK7"
      }
    },
    {
      "cell_type": "markdown",
      "source": [
        "| Method                                              | Type            | Flexibility | Notes                                             |\n",
        "| --------------------------------------------------- | --------------- | ----------- | ------------------------------------------------- |\n",
        "| **Logistic Regression**                             | Inflexible      | Low         | Good for simple binary classification             |\n",
        "| **Naive Bayes**                                     | Inflexible      | Medium      | Based on probability & Bayes theorem              |\n",
        "| **Decision Tree Classifier**                        | Flexible        | Medium      | Interpretable and visual                          |\n",
        "| **Random Forest Classifier**                        | Flexible        | High        | Reduces overfitting, robust                       |\n",
        "| **Gradient Boosting (XGBoost, CatBoost, LightGBM)** | Very Flexible   | High        | Among the best for structured data                |\n",
        "| **k-Nearest Neighbors (KNN)**                       | Flexible        | Medium      | Simple but sensitive to noise                     |\n",
        "| **Support Vector Machine (SVM)**                    | Flexible        | High        | Works well for complex classification boundaries  |\n",
        "| **Neural Networks / Deep Learning**                 | Highly Flexible | Very High   | For large and complex datasets (e.g. image, text) |\n"
      ],
      "metadata": {
        "id": "QVGCNujfkUL1"
      }
    },
    {
      "cell_type": "markdown",
      "source": [
        "## Bias variance decomposition"
      ],
      "metadata": {
        "id": "kJv8ShRiLZ1e"
      }
    },
    {
      "cell_type": "markdown",
      "source": [
        "3 . We now revisit the bias-variance decomposition.\n",
        "\n",
        "(a) Provide a sketch of typical (squared) bias, variance, training error, test error, and Bayes (or irreducible) error curves, on a single plot, as we go from less flexible statistical learning methods\n",
        "towards more flexible approaches. The x-axis should represent\n",
        "the amount of flexibility in the method, and the y-axis should\n",
        "represent the values for each curve. There should be five curves.\n",
        "Make sure to label each one.\n",
        "\n",
        "(b) Explain why each of the five curves has the shape displayed in\n",
        "part (a)."
      ],
      "metadata": {
        "id": "Ry8d8rtiPZwh"
      }
    },
    {
      "cell_type": "markdown",
      "source": [
        "### Answer"
      ],
      "metadata": {
        "id": "_ax2Ekr5SnW5"
      }
    },
    {
      "cell_type": "markdown",
      "source": [
        "#### (a.)"
      ],
      "metadata": {
        "id": "WdG4hZfHcOX6"
      }
    },
    {
      "cell_type": "code",
      "source": [
        "import numpy as np\n",
        "import matplotlib.pyplot as plt\n",
        "\n",
        "# x-axis: model flexibility\n",
        "flexibility = np.linspace(0, 10, 100)\n",
        "\n",
        "# conceptual curves\n",
        "bias2 = np.exp(-0.5 * flexibility) * 0.5 + 0.1\n",
        "variance = 0.1 * np.exp(0.3 * flexibility)\n",
        "training_error = 0.5 * np.exp(-0.6 * flexibility)\n",
        "test_error = bias2 + variance * 0.3 + 0.1\n",
        "bayes_error = np.ones_like(flexibility) * 0.1\n",
        "\n",
        "# plot\n",
        "plt.figure(figsize=(10,4))\n",
        "plt.plot(flexibility, bias2, label='Bias²', linewidth=2)\n",
        "plt.plot(flexibility, variance, label='Variance', linewidth=2)\n",
        "plt.plot(flexibility, training_error, label='Training Error', linewidth=2)\n",
        "plt.plot(flexibility, test_error, label='Test Error', linewidth=2, linestyle='--')\n",
        "plt.plot(flexibility, bayes_error, label='Irreducible Error (Bayes)', linewidth=2, linestyle=':')\n",
        "plt.xlabel('Model Flexibility (Less → More Flexible)')\n",
        "plt.ylabel('Error')\n",
        "plt.title('Bias-Variance Tradeoff and Error Curves')\n",
        "plt.legend()\n",
        "plt.grid(True)\n",
        "plt.show()\n"
      ],
      "metadata": {
        "id": "T1d0yOLCaVtu",
        "outputId": "503f8f8a-4abc-4fc9-9664-140b8e7412ac",
        "colab": {
          "base_uri": "https://localhost:8080/",
          "height": 410
        }
      },
      "execution_count": 6,
      "outputs": [
        {
          "output_type": "display_data",
          "data": {
            "text/plain": [
              "<Figure size 1000x400 with 1 Axes>"
            ],
            "image/png": "[encoded data removed]"
          },
          "metadata": {}
        }
      ]
    },
    {
      "cell_type": "markdown",
      "source": [
        "#### (b.)"
      ],
      "metadata": {
        "id": "vmsXw3iCcRkv"
      }
    },
    {
      "cell_type": "markdown",
      "source": [
        "High variance indicate that if the training data is changed a little bit, then the result of the significant function from the model could change drastically.\n",
        "\n",
        "Variance general intuition rules:\n",
        "\n",
        "1. if flexible method is used, then variance most likely increases\n",
        "2. if inflexible method is used, then variance most likely decreases\n",
        "\n",
        "Bias shows how far the approximate function generated by the model with the actual target value differs. It could be far or close. If close, then bias decreases. If far, bias increases\n",
        "\n",
        "Bias general intuition rules:\n",
        "1. if flexible method is used, then bias decreases\n",
        "2. if inflexible method is used, then bias increases\n",
        "\n",
        "Training error rate intuition:\n",
        "1. if flexible method is used, then training error rate decreases\n",
        "2. if inflexible method is used, them training error rate increases\n",
        "\n",
        "Test error rate intuition:\n",
        "1. If flexible method is used, then test error rate increases (flexible memorize pattern from training data) when overfitting. test error rate can also decrease when it is not overfitting\n",
        "\n",
        "bayes error - irreducable error. cannot be increase or decease and always remain constant if from flexible to in flexible or from inflexible to flexible."
      ],
      "metadata": {
        "id": "7Qiee88kTSIO"
      }
    },
    {
      "cell_type": "markdown",
      "source": [
        "## Real life application"
      ],
      "metadata": {
        "id": "-GGiKf0ndL0L"
      }
    },
    {
      "cell_type": "markdown",
      "source": [
        "4 . You will now think of some real-life applications for statistical learning.\n",
        "\n",
        "(a) Describe three real-life applications in which classification might\n",
        "be useful. Describe the response, as well as the predictors. Is the\n",
        "goal of each application inference or prediction? Explain your\n",
        "answer.\n",
        "\n",
        "(b) Describe three real-life applications in which regression might\n",
        "be useful. Describe the response, as well as the predictors. Is the\n",
        "goal of each application inference or prediction? Explain your\n",
        "answer.\n",
        "\n",
        "(c) Describe three real-life applications in which cluster analysis\n",
        "might be useful."
      ],
      "metadata": {
        "id": "khIU_T82dTrV"
      }
    },
    {
      "cell_type": "markdown",
      "source": [
        "### Answer"
      ],
      "metadata": {
        "id": "7cHE0Or7dlic"
      }
    },
    {
      "cell_type": "markdown",
      "source": [
        "#### (a.)"
      ],
      "metadata": {
        "id": "Qo2nqb2Xdt0C"
      }
    },
    {
      "cell_type": "markdown",
      "source": [
        "1. Credit risk validation.\n",
        "- Goal&ensp;&ensp;&ensp;&ensp;&ensp;&ensp;: to predict whether a customer is default on a loan\n",
        "- response&ensp;&ensp;: variable to classifying if default or not (true or false)\n",
        "- predictors&ensp;: age, income per month, percentage of default from history loan, own house?, job title\n",
        "\n",
        "2. Student examination\n",
        "- Goal&ensp;&ensp;&ensp;&ensp;&ensp;&ensp;: predict whether if a student will pass an exam based from the hours he/she had learnt\n",
        "- Response&ensp; : pass / fail\n",
        "- Predictor&ensp;&ensp;: hours studied\n",
        "\n",
        "3. categorizing if cheap / expensive when buying a video game\n",
        "- Goal&ensp;&ensp;&ensp;&ensp;&ensp;: predict if this video game is expensive or not\n",
        "- response&ensp;: cheap / expensive\n",
        "- predictor&ensp;:  publisher, rating, amount of active player, price"
      ],
      "metadata": {
        "id": "Lf3Av4LYdzEc"
      }
    },
    {
      "cell_type": "markdown",
      "source": [
        "#### (b.)"
      ],
      "metadata": {
        "id": "mS-LcoEGianE"
      }
    },
    {
      "cell_type": "markdown",
      "source": [
        "1. Predicting how many hours needed to charge electric car.\n",
        "- Goal&ensp;&ensp;&ensp;&ensp;&ensp;&ensp;: user wants to know how long time is needed to charge elelctric car battery to 100%\n",
        "- response&ensp;&ensp;: hours needed to charge battery fully\n",
        "- predictors&ensp;: battery life cycle, car age, amount of km had been ridden, brand, manufacture, country origin\n",
        "\n",
        "2. Student examination\n",
        "- Goal&ensp;&ensp;&ensp;&ensp;&ensp;&ensp;: predict how many hours needed for a student to study to pass an exam.\n",
        "- Response&ensp; : hours needed to study\n",
        "- Predictor&ensp;&ensp;: GPA, gender, IQ, subject of interest\n",
        "\n",
        "3. Video game price\n",
        "- Goal&ensp;&ensp;&ensp;&ensp;&ensp;: predict the price of unreleased game\n",
        "- response&ensp;: price of the game\n",
        "- predictor&ensp;:  publisher, game pre-requsite, budget, time needed to develop game"
      ],
      "metadata": {
        "id": "9DJrIV47i8sx"
      }
    },
    {
      "cell_type": "markdown",
      "source": [
        "#### (c.)"
      ],
      "metadata": {
        "id": "vBc7sUlLkqSM"
      }
    },
    {
      "cell_type": "markdown",
      "source": [
        "1. social class people food consumption\n",
        "- Goal&ensp;&ensp;&ensp;&ensp;&ensp;&ensp;: categorizing which type of people in social class are most likely to buy which type of foods\n",
        "- response&ensp;&ensp;: fast food, home cook, restaurant, super expensive michelin restaurant\n",
        "- predictors&ensp;: occupation, gender, age, net worth, income per month, hobby\n",
        "\n",
        "2. most commonly read books for genre ranking readers in campus library\n",
        "- Goal&ensp;&ensp;&ensp;&ensp;&ensp;&ensp;: predict which type of genre book user wants to read\n",
        "- Response&ensp; : science, motivation, politics, etc\n",
        "- Predictor&ensp;&ensp;: occupation, major, hobby\n",
        "\n",
        "3. Youtube video recommendation\n",
        "- Goal&ensp;&ensp;&ensp;&ensp;&ensp;: predicting which user wants to watch the genre video from youtube\n",
        "- response&ensp;: MMA, anime, news, drama\n",
        "- predictor&ensp;:  age, gender, hobby, occupation"
      ],
      "metadata": {
        "id": "b1fzBt-QlCte"
      }
    },
    {
      "cell_type": "markdown",
      "source": [
        "## flexible vs inflexible (strength and weakness)"
      ],
      "metadata": {
        "id": "bh7GWUS4nHMB"
      }
    },
    {
      "cell_type": "markdown",
      "source": [
        "5 . What are the advantages and disadvantages of a very flexible (versus\n",
        "a less flexible) approach for regression or classification? Under what\n",
        "circumstances might a more flexible approach be preferred to a less\n",
        "flexible approach? When might a less flexible approach be preferred?"
      ],
      "metadata": {
        "id": "Oj8LrAFOpcPS"
      }
    },
    {
      "cell_type": "markdown",
      "source": [
        "### Answer"
      ],
      "metadata": {
        "id": "E8caweYTpk8T"
      }
    },
    {
      "cell_type": "markdown",
      "source": [
        "1. Flexible method\n",
        "\n",
        "- advantages: can learn complex relationship between independent variables and dependent variable to predict more accurate data when the given data set is quite complex such as many records and features\n",
        "- disadvantages: if dataset is too simple, may cause overfitting of model. Therefore, performance in test set data cannot be generalized well.\n",
        "- use case : for regression approach and classification approach, always watch the relationship between variables. if the relationship is non linear or complex, use flexible instead.\n",
        "\n",
        "2. Inflexible method\n",
        " - advantages : used for simple dataset so that model can generalize test and training set better. Hence, it shows the model structre cleaarly.\n",
        " - disadvantages : may cause underfitting if data relationship is linear but complex. alyways use inflexible when relationship is linear and dataset is simple\n",
        " - use case : for regression or classification apporach, always determine whether the relationship between dependent and independent is simple or complex. if simple and linear, use inflexible.\n",
        "\n"
      ],
      "metadata": {
        "id": "KvYTPAnTpocE"
      }
    },
    {
      "cell_type": "markdown",
      "source": [
        "### more complete answer"
      ],
      "metadata": {
        "id": "8OIaF9MsszkC"
      }
    },
    {
      "cell_type": "markdown",
      "source": [
        "**flexible**\n",
        "\n",
        "Advantages:\n",
        "\n",
        "Capable of capturing complex, non-linear relationships between predictors and the response variable.\n",
        "\n",
        "Usually achieves lower bias and higher predictive accuracy when the underlying true function is complex.\n",
        "\n",
        "Performs well when there is a large dataset and a high signal-to-noise ratio.\n",
        "\n",
        "Disadvantages:\n",
        "\n",
        "Tends to have high variance, meaning it can overfit the training data and perform poorly on unseen (test) data.\n",
        "\n",
        "Requires more computational resources and can be harder to interpret.\n",
        "\n",
        "Preferred when:\n",
        "\n",
        "The relationship between predictors and response is highly non-linear or complex.\n",
        "\n",
        "There is a lot of data available.\n",
        "\n",
        "Prediction accuracy is more important than model interpretability.\n",
        "\n",
        "**inflexible**\n",
        "\n",
        "Advantages:\n",
        "\n",
        "Have lower variance and are less prone to overfitting.\n",
        "\n",
        "Easier to interpret and explain, since the model structure is simple (e.g., linear regression coefficients).\n",
        "\n",
        "Performs better when the true relationship is approximately linear or when the dataset is small.\n",
        "\n",
        "Disadvantages:\n",
        "\n",
        "High bias — cannot capture complex relationships between predictors and the response.\n",
        "\n",
        "May underfit when the data pattern is non-linear or complex.\n",
        "\n",
        "Preferred when:\n",
        "\n",
        "The true relationship is simple and roughly linear.\n",
        "\n",
        "The dataset is small or noisy.\n",
        "\n",
        "Interpretability or simplicity is more important than raw predictive power."
      ],
      "metadata": {
        "id": "uIfoXpfHs2sX"
      }
    },
    {
      "cell_type": "markdown",
      "source": [
        "## Parametic vs Non parametic statistical learning"
      ],
      "metadata": {
        "id": "dQZN-mGeuJNz"
      }
    },
    {
      "cell_type": "markdown",
      "source": [
        "6 . Describe the differences between a parametric and a non-parametric\n",
        "statistical learning approach. What are the advantages of a parametric approach to regression or classification (as opposed to a nonparametric approach)? What are its disadvantages?\n"
      ],
      "metadata": {
        "id": "nEXRBHQjuPhB"
      }
    },
    {
      "cell_type": "markdown",
      "source": [
        "### Answer"
      ],
      "metadata": {
        "id": "TIjPtYGXuhBF"
      }
    },
    {
      "cell_type": "markdown",
      "source": [
        "Parametric statistical learning methods assume a specific functional form for the relationship between the predictors and the dependent variable. For example, linear regression assumes that the response is a linear combination of the predictors plus an error term. The model then estimates a fixed set of parameters (like slopes and intercepts) from the data.\n",
        "\n",
        "Non-parametric statistical learning methods, on the other hand, do not assume a predefined shape or structure for the relationship between predictors and the response. Instead, they learn patterns directly from the data itself, which allows them to model very complex and non-linear relationships.\n",
        "\n",
        "advantages of parametic  is that all reasoning from the estimated model are generated from existing real data. Therefore ensuring more clear data quality. However, this type of learning is a little bit rigid compared to non pearametic statistical learning\n",
        "\n",
        "advantages of non parametic is that for each observation is made, we do not have to input the value of its predictor and the model can just learn the relationship based from the behaviour. However, this type of learning super complex and cannot be interpreted easily compared to parametic statistcical learning.\n",
        "\n",
        "Use case of parametic learning includes predicting house price based from the number of rooms, land lize, etc.\n",
        "\n",
        "Use case if non parametic learning includes prediting sick chicken ny detecting its behaviour of the chicken. Or predicting similar reader categories for books based on the reader preferences.  "
      ],
      "metadata": {
        "id": "_K5qVz_4ukVf"
      }
    },
    {
      "cell_type": "code",
      "source": [],
      "metadata": {
        "id": "JbUhiAIWuMAo"
      },
      "execution_count": null,
      "outputs": []
    }
  ]
}